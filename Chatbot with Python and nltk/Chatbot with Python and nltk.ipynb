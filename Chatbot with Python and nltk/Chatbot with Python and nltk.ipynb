{
 "cells": [
  {
   "cell_type": "markdown",
   "metadata": {},
   "source": [
    "# <center> Chatbot with Python and nltk </center>"
   ]
  },
  {
   "cell_type": "markdown",
   "metadata": {},
   "source": [
    "In this project, we build a little Chatbot in Python with nltk Library oriented toward Napoloéon I and General De Gaulle knowledge (based on Wikipédia information).\n",
    "\n",
    "<b>Ressources</b> : https://medium.com/analytics-vidhya/building-a-simple-chatbot-in-python-using-nltk-7c8c8215ac6e"
   ]
  },
  {
   "cell_type": "code",
   "execution_count": 1,
   "metadata": {},
   "outputs": [],
   "source": [
    "import io\n",
    "import nltk\n",
    "import numpy as np\n",
    "import random\n",
    "import string\n",
    "import warnings\n",
    "warnings.filterwarnings('ignore')\n",
    "from sklearn.feature_extraction.text import TfidfVectorizer\n",
    "from sklearn.metrics.pairwise import cosine_similarity\n",
    "import nltk\n",
    "from nltk.stem import WordNetLemmatizer\n",
    "from nltk.corpus import stopwords"
   ]
  },
  {
   "cell_type": "code",
   "execution_count": 2,
   "metadata": {},
   "outputs": [
    {
     "name": "stderr",
     "output_type": "stream",
     "text": [
      "[nltk_data] Downloading package punkt to\n",
      "[nltk_data]     C:\\Users\\macbi\\AppData\\Roaming\\nltk_data...\n",
      "[nltk_data]   Package punkt is already up-to-date!\n",
      "[nltk_data] Downloading package wordnet to\n",
      "[nltk_data]     C:\\Users\\macbi\\AppData\\Roaming\\nltk_data...\n",
      "[nltk_data]   Package wordnet is already up-to-date!\n"
     ]
    },
    {
     "data": {
      "text/plain": [
       "True"
      ]
     },
     "execution_count": 2,
     "metadata": {},
     "output_type": "execute_result"
    }
   ],
   "source": [
    "nltk.download('popular', quiet = True)\n",
    "nltk.download('punkt')\n",
    "nltk.download('wordnet')"
   ]
  },
  {
   "cell_type": "code",
   "execution_count": 3,
   "metadata": {},
   "outputs": [],
   "source": [
    "f = open('chatbot.txt', 'r', errors = 'ignore')\n",
    "raw = f.read()\n",
    "raw = raw.lower()"
   ]
  },
  {
   "cell_type": "code",
   "execution_count": 4,
   "metadata": {},
   "outputs": [],
   "source": [
    "# Tokenize the dataset\n",
    "sent_tokens = nltk.sent_tokenize(raw)\n",
    "word_tokens = nltk.word_tokenize(raw)"
   ]
  },
  {
   "cell_type": "code",
   "execution_count": 5,
   "metadata": {},
   "outputs": [],
   "source": [
    "lemmer = WordNetLemmatizer()\n",
    "def LemTokens(tokens) : \n",
    "    return[lemmer.lemmatize(token) for token in tokens]\n",
    "remove_punct_dict = dict((ord(punct), None) for punct in string.punctuation)\n",
    "def LemNormalize(text) : \n",
    "    return LemTokens(nltk.word_tokenize(text.lower().translate(remove_punct_dict)))"
   ]
  },
  {
   "cell_type": "code",
   "execution_count": 6,
   "metadata": {},
   "outputs": [],
   "source": [
    "premiersmots = (\"bonjour\", \"salut\", \"coucou\", \"hola\", \"wesh frrrrr\", \"ca va ?\", \"bienvenue\",)\n",
    "reponses = [\"salut\", \"bien et toi\", \"yes !\", \"comment vas-tu ?\", \"wesh le zin\"]"
   ]
  },
  {
   "cell_type": "code",
   "execution_count": 7,
   "metadata": {},
   "outputs": [],
   "source": [
    "def bienvenue(sentence) :\n",
    "    for word in sentence.split() : \n",
    "        if word.lower() in premiersmots : \n",
    "            return random.choice(reponses)"
   ]
  },
  {
   "cell_type": "code",
   "execution_count": 8,
   "metadata": {},
   "outputs": [],
   "source": [
    "def reponse(user_reponse) : \n",
    "    reponserobo = ''\n",
    "    sent_tokens.append(user_reponse)\n",
    "    fin_stop_words = stopwords.words('english') + stopwords.words('french')\n",
    "    TfidfVec = TfidfVectorizer(tokenizer = LemNormalize, stop_words = fin_stop_words)\n",
    "    tfidf = TfidfVec.fit_transform(sent_tokens)\n",
    "    vals = cosine_similarity(tfidf[-1], tfidf)\n",
    "    idx = vals.argsort()[0][-2]\n",
    "    flat= vals.flatten()\n",
    "    flat.sort()\n",
    "    req_tfidf = flat[-2]\n",
    "    if(req_tfidf == 0) : \n",
    "        reponserobo = reponserobo + \"Désolé, je ne vous ai pas compris\"\n",
    "        return reponserobo\n",
    "    else :\n",
    "        reponserobo = reponserobo + sent_tokens[idx]\n",
    "        return reponserobo"
   ]
  },
  {
   "cell_type": "code",
   "execution_count": null,
   "metadata": {},
   "outputs": [],
   "source": [
    "flag = True\n",
    "print(\"BOBO LE ROBO : Mon nom est Bobo le Robo... ou Robo le Bobo, je ne sais plus... Je répondrai à vos questions sur Napoléon ou De Gaulle. Si vous voulez sortir, tapez Ciao mon pote !\")\n",
    "while(flag == True) :\n",
    "    user_reponse = input()\n",
    "    user_reponse = user_reponse.lower()\n",
    "    if (user_reponse != \"ciao mon pote\") : \n",
    "        if (user_reponse == 'Mercé' or user_reponse == \"Merci\") :\n",
    "            flag = False\n",
    "            print(\"BOBO LE ROBO : A la prochaine...\")\n",
    "        else : \n",
    "            if (bienvenue(user_reponse) != None) :\n",
    "                print(\"BOBO LE ROBO : \" + reponse(user_reponse))\n",
    "            else :\n",
    "                print(\"BOBO LE ROBO : \", end = \"\")\n",
    "                print(reponse(user_reponse))\n",
    "                sent_tokens.remove(user_reponse)\n",
    "    else :\n",
    "        flag = False\n",
    "        print(\"BOBO LE ROBO : Au revoir, prenez soin de vous...\")"
   ]
  }
 ],
 "metadata": {
  "kernelspec": {
   "display_name": "Python 3",
   "language": "python",
   "name": "python3"
  },
  "language_info": {
   "codemirror_mode": {
    "name": "ipython",
    "version": 3
   },
   "file_extension": ".py",
   "mimetype": "text/x-python",
   "name": "python",
   "nbconvert_exporter": "python",
   "pygments_lexer": "ipython3",
   "version": "3.7.7"
  }
 },
 "nbformat": 4,
 "nbformat_minor": 4
}
