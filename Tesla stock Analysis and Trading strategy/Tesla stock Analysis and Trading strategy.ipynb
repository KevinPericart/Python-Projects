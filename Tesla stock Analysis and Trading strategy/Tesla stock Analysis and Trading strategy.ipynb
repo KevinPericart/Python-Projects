{
 "cells": [
  {
   "cell_type": "markdown",
   "metadata": {},
   "source": [
    "# <center> Financial analysis and Trading strategy in Python </center>\n",
    "## <center> _Tesla Example_ </center>"
   ]
  },
  {
   "cell_type": "code",
   "execution_count": 1,
   "metadata": {},
   "outputs": [
    {
     "name": "stdout",
     "output_type": "stream",
     "text": [
      "Requirement already satisfied: pandas_datareader in c:\\users\\macbi\\anaconda3\\lib\\site-packages (0.9.0)\n",
      "Requirement already satisfied: requests>=2.19.0 in c:\\users\\macbi\\anaconda3\\lib\\site-packages (from pandas_datareader) (2.23.0)\n",
      "Requirement already satisfied: pandas>=0.23 in c:\\users\\macbi\\anaconda3\\lib\\site-packages (from pandas_datareader) (1.0.3)\n",
      "Requirement already satisfied: lxml in c:\\users\\macbi\\anaconda3\\lib\\site-packages (from pandas_datareader) (4.5.0)\n",
      "Requirement already satisfied: chardet<4,>=3.0.2 in c:\\users\\macbi\\anaconda3\\lib\\site-packages (from requests>=2.19.0->pandas_datareader) (3.0.4)\n",
      "Requirement already satisfied: idna<3,>=2.5 in c:\\users\\macbi\\anaconda3\\lib\\site-packages (from requests>=2.19.0->pandas_datareader) (2.9)\n",
      "Requirement already satisfied: certifi>=2017.4.17 in c:\\users\\macbi\\anaconda3\\lib\\site-packages (from requests>=2.19.0->pandas_datareader) (2020.4.5.1)\n",
      "Requirement already satisfied: urllib3!=1.25.0,!=1.25.1,<1.26,>=1.21.1 in c:\\users\\macbi\\anaconda3\\lib\\site-packages (from requests>=2.19.0->pandas_datareader) (1.25.8)\n",
      "Requirement already satisfied: python-dateutil>=2.6.1 in c:\\users\\macbi\\anaconda3\\lib\\site-packages (from pandas>=0.23->pandas_datareader) (2.8.1)\n",
      "Requirement already satisfied: pytz>=2017.2 in c:\\users\\macbi\\anaconda3\\lib\\site-packages (from pandas>=0.23->pandas_datareader) (2019.3)\n",
      "Requirement already satisfied: numpy>=1.13.3 in c:\\users\\macbi\\anaconda3\\lib\\site-packages (from pandas>=0.23->pandas_datareader) (1.18.4)\n",
      "Requirement already satisfied: six>=1.5 in c:\\users\\macbi\\anaconda3\\lib\\site-packages (from python-dateutil>=2.6.1->pandas>=0.23->pandas_datareader) (1.14.0)\n",
      "Requirement already satisfied: yfinance in c:\\users\\macbi\\anaconda3\\lib\\site-packages (0.1.54)\n",
      "Requirement already satisfied: numpy>=1.15 in c:\\users\\macbi\\anaconda3\\lib\\site-packages (from yfinance) (1.18.4)\n",
      "Requirement already satisfied: multitasking>=0.0.7 in c:\\users\\macbi\\anaconda3\\lib\\site-packages (from yfinance) (0.0.9)\n",
      "Requirement already satisfied: pandas>=0.24 in c:\\users\\macbi\\anaconda3\\lib\\site-packages (from yfinance) (1.0.3)\n",
      "Requirement already satisfied: requests>=2.20 in c:\\users\\macbi\\anaconda3\\lib\\site-packages (from yfinance) (2.23.0)\n",
      "Requirement already satisfied: pytz>=2017.2 in c:\\users\\macbi\\anaconda3\\lib\\site-packages (from pandas>=0.24->yfinance) (2019.3)\n",
      "Requirement already satisfied: python-dateutil>=2.6.1 in c:\\users\\macbi\\anaconda3\\lib\\site-packages (from pandas>=0.24->yfinance) (2.8.1)\n",
      "Requirement already satisfied: urllib3!=1.25.0,!=1.25.1,<1.26,>=1.21.1 in c:\\users\\macbi\\anaconda3\\lib\\site-packages (from requests>=2.20->yfinance) (1.25.8)\n",
      "Requirement already satisfied: chardet<4,>=3.0.2 in c:\\users\\macbi\\anaconda3\\lib\\site-packages (from requests>=2.20->yfinance) (3.0.4)\n",
      "Requirement already satisfied: certifi>=2017.4.17 in c:\\users\\macbi\\anaconda3\\lib\\site-packages (from requests>=2.20->yfinance) (2020.4.5.1)\n",
      "Requirement already satisfied: idna<3,>=2.5 in c:\\users\\macbi\\anaconda3\\lib\\site-packages (from requests>=2.20->yfinance) (2.9)\n",
      "Requirement already satisfied: six>=1.5 in c:\\users\\macbi\\anaconda3\\lib\\site-packages (from python-dateutil>=2.6.1->pandas>=0.24->yfinance) (1.14.0)\n"
     ]
    }
   ],
   "source": [
    "!pip install pandas_datareader\n",
    "!pip install yfinance"
   ]
  },
  {
   "cell_type": "code",
   "execution_count": 2,
   "metadata": {},
   "outputs": [],
   "source": [
    "import pandas as pd\n",
    "import numpy as np\n",
    "import datetime\n",
    "import matplotlib.pyplot as plt"
   ]
  },
  {
   "cell_type": "markdown",
   "metadata": {},
   "source": [
    "## 1. Import and Analysis of Data"
   ]
  },
  {
   "cell_type": "code",
   "execution_count": 3,
   "metadata": {},
   "outputs": [
    {
     "data": {
      "text/html": [
       "<div>\n",
       "<style scoped>\n",
       "    .dataframe tbody tr th:only-of-type {\n",
       "        vertical-align: middle;\n",
       "    }\n",
       "\n",
       "    .dataframe tbody tr th {\n",
       "        vertical-align: top;\n",
       "    }\n",
       "\n",
       "    .dataframe thead th {\n",
       "        text-align: right;\n",
       "    }\n",
       "</style>\n",
       "<table border=\"1\" class=\"dataframe\">\n",
       "  <thead>\n",
       "    <tr style=\"text-align: right;\">\n",
       "      <th></th>\n",
       "      <th>High</th>\n",
       "      <th>Low</th>\n",
       "      <th>Open</th>\n",
       "      <th>Close</th>\n",
       "      <th>Volume</th>\n",
       "      <th>Adj Close</th>\n",
       "    </tr>\n",
       "    <tr>\n",
       "      <th>Date</th>\n",
       "      <th></th>\n",
       "      <th></th>\n",
       "      <th></th>\n",
       "      <th></th>\n",
       "      <th></th>\n",
       "      <th></th>\n",
       "    </tr>\n",
       "  </thead>\n",
       "  <tbody>\n",
       "    <tr>\n",
       "      <th>2010-06-29</th>\n",
       "      <td>5.000</td>\n",
       "      <td>3.508</td>\n",
       "      <td>3.800</td>\n",
       "      <td>4.778</td>\n",
       "      <td>93831500.0</td>\n",
       "      <td>4.778</td>\n",
       "    </tr>\n",
       "    <tr>\n",
       "      <th>2010-06-30</th>\n",
       "      <td>6.084</td>\n",
       "      <td>4.660</td>\n",
       "      <td>5.158</td>\n",
       "      <td>4.766</td>\n",
       "      <td>85935500.0</td>\n",
       "      <td>4.766</td>\n",
       "    </tr>\n",
       "    <tr>\n",
       "      <th>2010-07-01</th>\n",
       "      <td>5.184</td>\n",
       "      <td>4.054</td>\n",
       "      <td>5.000</td>\n",
       "      <td>4.392</td>\n",
       "      <td>41094000.0</td>\n",
       "      <td>4.392</td>\n",
       "    </tr>\n",
       "  </tbody>\n",
       "</table>\n",
       "</div>"
      ],
      "text/plain": [
       "             High    Low   Open  Close      Volume  Adj Close\n",
       "Date                                                         \n",
       "2010-06-29  5.000  3.508  3.800  4.778  93831500.0      4.778\n",
       "2010-06-30  6.084  4.660  5.158  4.766  85935500.0      4.766\n",
       "2010-07-01  5.184  4.054  5.000  4.392  41094000.0      4.392"
      ]
     },
     "execution_count": 3,
     "metadata": {},
     "output_type": "execute_result"
    }
   ],
   "source": [
    "# Import TESLA data from Yahoo Finance API\n",
    "from pandas_datareader import data as pdr\n",
    "import yfinance\n",
    "tsla = pdr.get_data_yahoo('TSLA', start = datetime.datetime(2010, 6, 1), end = datetime.datetime(2020, 9, 1))\n",
    "tsla.head(3)"
   ]
  },
  {
   "cell_type": "code",
   "execution_count": 4,
   "metadata": {},
   "outputs": [
    {
     "data": {
      "text/plain": [
       "DatetimeIndex(['2010-06-29', '2010-06-30', '2010-07-01', '2010-07-02',\n",
       "               '2010-07-06', '2010-07-07', '2010-07-08', '2010-07-09',\n",
       "               '2010-07-12', '2010-07-13',\n",
       "               ...\n",
       "               '2020-08-19', '2020-08-20', '2020-08-21', '2020-08-24',\n",
       "               '2020-08-25', '2020-08-26', '2020-08-27', '2020-08-28',\n",
       "               '2020-08-31', '2020-09-01'],\n",
       "              dtype='datetime64[ns]', name='Date', length=2563, freq=None)"
      ]
     },
     "execution_count": 4,
     "metadata": {},
     "output_type": "execute_result"
    }
   ],
   "source": [
    "# Inspect the dataset\n",
    "tsla.index"
   ]
  },
  {
   "cell_type": "code",
   "execution_count": 16,
   "metadata": {},
   "outputs": [
    {
     "data": {
      "text/html": [
       "<div>\n",
       "<style scoped>\n",
       "    .dataframe tbody tr th:only-of-type {\n",
       "        vertical-align: middle;\n",
       "    }\n",
       "\n",
       "    .dataframe tbody tr th {\n",
       "        vertical-align: top;\n",
       "    }\n",
       "\n",
       "    .dataframe thead th {\n",
       "        text-align: right;\n",
       "    }\n",
       "</style>\n",
       "<table border=\"1\" class=\"dataframe\">\n",
       "  <thead>\n",
       "    <tr style=\"text-align: right;\">\n",
       "      <th></th>\n",
       "      <th>High</th>\n",
       "      <th>Low</th>\n",
       "      <th>Open</th>\n",
       "      <th>Close</th>\n",
       "      <th>Volume</th>\n",
       "      <th>Adj Close</th>\n",
       "      <th>diff</th>\n",
       "    </tr>\n",
       "  </thead>\n",
       "  <tbody>\n",
       "    <tr>\n",
       "      <th>count</th>\n",
       "      <td>2563.000000</td>\n",
       "      <td>2563.000000</td>\n",
       "      <td>2563.000000</td>\n",
       "      <td>2563.000000</td>\n",
       "      <td>2.563000e+03</td>\n",
       "      <td>2563.000000</td>\n",
       "      <td>2563.000000</td>\n",
       "    </tr>\n",
       "    <tr>\n",
       "      <th>mean</th>\n",
       "      <td>47.808407</td>\n",
       "      <td>45.803053</td>\n",
       "      <td>46.809201</td>\n",
       "      <td>46.855214</td>\n",
       "      <td>3.107521e+07</td>\n",
       "      <td>46.855214</td>\n",
       "      <td>-0.046013</td>\n",
       "    </tr>\n",
       "    <tr>\n",
       "      <th>std</th>\n",
       "      <td>51.695762</td>\n",
       "      <td>48.606970</td>\n",
       "      <td>50.102209</td>\n",
       "      <td>50.314348</td>\n",
       "      <td>2.900307e+07</td>\n",
       "      <td>50.314348</td>\n",
       "      <td>2.739651</td>\n",
       "    </tr>\n",
       "    <tr>\n",
       "      <th>min</th>\n",
       "      <td>3.326000</td>\n",
       "      <td>2.996000</td>\n",
       "      <td>3.228000</td>\n",
       "      <td>3.160000</td>\n",
       "      <td>5.925000e+05</td>\n",
       "      <td>3.160000</td>\n",
       "      <td>-53.710022</td>\n",
       "    </tr>\n",
       "    <tr>\n",
       "      <th>25%</th>\n",
       "      <td>7.206000</td>\n",
       "      <td>6.953000</td>\n",
       "      <td>7.058000</td>\n",
       "      <td>7.064000</td>\n",
       "      <td>1.034300e+07</td>\n",
       "      <td>7.064000</td>\n",
       "      <td>-0.389000</td>\n",
       "    </tr>\n",
       "    <tr>\n",
       "      <th>50%</th>\n",
       "      <td>44.520000</td>\n",
       "      <td>43.172001</td>\n",
       "      <td>43.976002</td>\n",
       "      <td>43.862000</td>\n",
       "      <td>2.431950e+07</td>\n",
       "      <td>43.862000</td>\n",
       "      <td>0.006000</td>\n",
       "    </tr>\n",
       "    <tr>\n",
       "      <th>75%</th>\n",
       "      <td>59.684000</td>\n",
       "      <td>57.390999</td>\n",
       "      <td>58.470001</td>\n",
       "      <td>58.362999</td>\n",
       "      <td>4.006275e+07</td>\n",
       "      <td>58.362999</td>\n",
       "      <td>0.407000</td>\n",
       "    </tr>\n",
       "    <tr>\n",
       "      <th>max</th>\n",
       "      <td>502.489990</td>\n",
       "      <td>470.510010</td>\n",
       "      <td>502.140015</td>\n",
       "      <td>498.320007</td>\n",
       "      <td>3.046940e+08</td>\n",
       "      <td>498.320007</td>\n",
       "      <td>33.175995</td>\n",
       "    </tr>\n",
       "  </tbody>\n",
       "</table>\n",
       "</div>"
      ],
      "text/plain": [
       "              High          Low         Open        Close        Volume  \\\n",
       "count  2563.000000  2563.000000  2563.000000  2563.000000  2.563000e+03   \n",
       "mean     47.808407    45.803053    46.809201    46.855214  3.107521e+07   \n",
       "std      51.695762    48.606970    50.102209    50.314348  2.900307e+07   \n",
       "min       3.326000     2.996000     3.228000     3.160000  5.925000e+05   \n",
       "25%       7.206000     6.953000     7.058000     7.064000  1.034300e+07   \n",
       "50%      44.520000    43.172001    43.976002    43.862000  2.431950e+07   \n",
       "75%      59.684000    57.390999    58.470001    58.362999  4.006275e+07   \n",
       "max     502.489990   470.510010   502.140015   498.320007  3.046940e+08   \n",
       "\n",
       "         Adj Close         diff  \n",
       "count  2563.000000  2563.000000  \n",
       "mean     46.855214    -0.046013  \n",
       "std      50.314348     2.739651  \n",
       "min       3.160000   -53.710022  \n",
       "25%       7.064000    -0.389000  \n",
       "50%      43.862000     0.006000  \n",
       "75%      58.362999     0.407000  \n",
       "max     498.320007    33.175995  "
      ]
     },
     "execution_count": 16,
     "metadata": {},
     "output_type": "execute_result"
    }
   ],
   "source": [
    "tsla.describe()"
   ]
  },
  {
   "cell_type": "code",
   "execution_count": 5,
   "metadata": {},
   "outputs": [
    {
     "name": "stdout",
     "output_type": "stream",
     "text": [
      "Date\n",
      "2020-08-19    375.705994\n",
      "2020-08-20    400.365997\n",
      "2020-08-21    409.996002\n",
      "2020-08-24    402.839996\n",
      "2020-08-25    404.667999\n",
      "2020-08-26    430.634003\n",
      "2020-08-27    447.750000\n",
      "2020-08-28    442.679993\n",
      "2020-08-31    498.320007\n",
      "2020-09-01    475.049988\n",
      "Name: Close, dtype: float64\n"
     ]
    }
   ],
   "source": [
    "ts = tsla['Close'][-10:]\n",
    "print(ts)"
   ]
  },
  {
   "cell_type": "code",
   "execution_count": 7,
   "metadata": {},
   "outputs": [
    {
     "name": "stdout",
     "output_type": "stream",
     "text": [
      "                  High         Low        Open       Close       Volume  \\\n",
      "Date                                                                      \n",
      "2020-02-03  157.227997  134.703995  134.738007  156.000000  236167500.0   \n",
      "2020-02-04  193.798004  166.776001  176.591995  177.412003  304694000.0   \n",
      "2020-02-05  169.195999  140.822006  164.651993  146.940002  242119000.0   \n",
      "2020-02-06  159.166000  137.399994  139.983994  149.792007  199404000.0   \n",
      "2020-02-07  153.949997  146.000000  146.110001  149.613998   85317500.0   \n",
      "2020-02-10  163.998001  150.479996  160.000000  154.255997  123446000.0   \n",
      "2020-02-11  156.701996  151.600006  153.757996  154.876007   58487500.0   \n",
      "2020-02-12  157.949997  152.673996  155.574005  153.457993   60112500.0   \n",
      "2020-02-13  163.600006  147.000000  148.367996  160.800003  131446500.0   \n",
      "2020-02-14  162.593994  157.100006  157.444000  160.005997   78468500.0   \n",
      "2020-02-18  172.000000  166.472000  168.320007  171.679993   81908500.0   \n",
      "2020-02-19  188.955994  180.203995  184.699997  183.483994  127115000.0   \n",
      "2020-02-20  182.399994  171.988007  182.389999  179.882004   88174500.0   \n",
      "2020-02-21  182.612000  176.089996  181.395996  180.199997   71574000.0   \n",
      "2020-02-24  172.699997  164.440002  167.800003  166.757996   75961000.0   \n",
      "2020-02-25  171.320007  157.399994  169.800003  159.981995   86452500.0   \n",
      "2020-02-26  162.662003  155.222000  156.500000  155.759995   70427500.0   \n",
      "2020-02-27  147.953995  133.800003  146.000000  135.800003  121386000.0   \n",
      "2020-02-28  138.104004  122.304001  125.940002  133.598007  122821000.0   \n",
      "\n",
      "             Adj Close  \n",
      "Date                    \n",
      "2020-02-03  156.000000  \n",
      "2020-02-04  177.412003  \n",
      "2020-02-05  146.940002  \n",
      "2020-02-06  149.792007  \n",
      "2020-02-07  149.613998  \n",
      "2020-02-10  154.255997  \n",
      "2020-02-11  154.876007  \n",
      "2020-02-12  153.457993  \n",
      "2020-02-13  160.800003  \n",
      "2020-02-14  160.005997  \n",
      "2020-02-18  171.679993  \n",
      "2020-02-19  183.483994  \n",
      "2020-02-20  179.882004  \n",
      "2020-02-21  180.199997  \n",
      "2020-02-24  166.757996  \n",
      "2020-02-25  159.981995  \n",
      "2020-02-26  155.759995  \n",
      "2020-02-27  135.800003  \n",
      "2020-02-28  133.598007  \n"
     ]
    }
   ],
   "source": [
    "# Observe February 2020\n",
    "print(tsla.loc[pd.Timestamp('2020-2-1'):pd.Timestamp('2020-2-28')])"
   ]
  },
  {
   "cell_type": "code",
   "execution_count": 8,
   "metadata": {},
   "outputs": [
    {
     "name": "stdout",
     "output_type": "stream",
     "text": [
      "                  High         Low        Open       Close       Volume  \\\n",
      "Date                                                                      \n",
      "2020-03-02  148.738007  137.334000  142.251999  148.723999  100975000.0   \n",
      "2020-03-03  161.395996  143.222000  161.000000  149.102005  128920000.0   \n",
      "2020-03-04  153.304001  144.945999  152.792007  149.899994   75245000.0   \n",
      "2020-03-05  149.149994  143.613998  144.753998  144.908005   54263500.0   \n",
      "2020-03-06  141.399994  136.854004  138.000000  140.695999   63314500.0   \n",
      "2020-03-09  132.600006  121.000000  121.078003  121.599998   85368500.0   \n",
      "2020-03-10  133.600006  121.599998  131.886002  129.065994   77972000.0   \n",
      "2020-03-11  130.716003  122.599998  128.039993  126.846001   66612500.0   \n",
      "2020-03-12  118.900002  109.250000  116.178001  112.110001   94545500.0   \n",
      "2020-03-13  121.514000  100.400002  119.000000  109.323997  113201500.0   \n",
      "2020-03-16   98.973999   88.433998   93.900002   89.014000  102447500.0   \n",
      "2020-03-17   94.370003   79.199997   88.001999   86.040001  119973000.0   \n",
      "2020-03-18   80.972000   70.101997   77.800003   72.244003  118931000.0   \n",
      "2020-03-19   90.400002   71.692001   74.940002   85.528000  150977500.0   \n",
      "2020-03-20   95.400002   85.157997   87.639999   85.505997  141427500.0   \n",
      "2020-03-23   88.400002   82.099998   86.720001   86.858002   82272500.0   \n",
      "2020-03-24  102.737999   94.800003   95.459999  101.000000  114476000.0   \n",
      "2020-03-25  111.400002  102.222000  109.050003  107.849998  106113500.0   \n",
      "2020-03-26  112.000000  102.449997  109.477997  105.632004   86903500.0   \n",
      "2020-03-27  105.160004   98.806000  101.000000  102.872002   71887000.0   \n",
      "2020-03-30  103.330002   98.246002  102.052002  100.426003   59990500.0   \n",
      "2020-03-31  108.592003   99.400002  100.250000  104.800003   88857500.0   \n",
      "\n",
      "             Adj Close  \n",
      "Date                    \n",
      "2020-03-02  148.723999  \n",
      "2020-03-03  149.102005  \n",
      "2020-03-04  149.899994  \n",
      "2020-03-05  144.908005  \n",
      "2020-03-06  140.695999  \n",
      "2020-03-09  121.599998  \n",
      "2020-03-10  129.065994  \n",
      "2020-03-11  126.846001  \n",
      "2020-03-12  112.110001  \n",
      "2020-03-13  109.323997  \n",
      "2020-03-16   89.014000  \n",
      "2020-03-17   86.040001  \n",
      "2020-03-18   72.244003  \n",
      "2020-03-19   85.528000  \n",
      "2020-03-20   85.505997  \n",
      "2020-03-23   86.858002  \n",
      "2020-03-24  101.000000  \n",
      "2020-03-25  107.849998  \n",
      "2020-03-26  105.632004  \n",
      "2020-03-27  102.872002  \n",
      "2020-03-30  100.426003  \n",
      "2020-03-31  104.800003  \n"
     ]
    }
   ],
   "source": [
    "# Observe March 2020\n",
    "print(tsla.loc[pd.Timestamp('2020-3-1'):pd.Timestamp('2020-3-31')])"
   ]
  },
  {
   "cell_type": "code",
   "execution_count": 9,
   "metadata": {},
   "outputs": [
    {
     "name": "stdout",
     "output_type": "stream",
     "text": [
      "                  High         Low        Open       Close       Volume  \\\n",
      "Date                                                                      \n",
      "2020-04-01  102.790001   95.019997  100.800003   96.311996   66766000.0   \n",
      "2020-04-02   98.851997   89.279999   96.206001   90.893997   99292000.0   \n",
      "2020-04-03  103.098000   93.678001  101.900002   96.001999  112810500.0   \n",
      "2020-04-06  104.199997   99.592003  102.239998  103.248001   74509000.0   \n",
      "2020-04-07  113.000000  106.468002  109.000000  109.089996   89599000.0   \n",
      "2020-04-08  111.442001  106.666000  110.839996  109.767998   63280000.0   \n",
      "2020-04-09  115.036003  111.421997  112.417999  114.599998   68250000.0   \n",
      "2020-04-13  130.399994  116.106003  118.031998  130.190002  112377000.0   \n",
      "2020-04-14  148.376007  138.485992  139.794006  141.977997  152882500.0   \n",
      "2020-04-15  150.626007  142.000000  148.399994  145.966003  117885000.0   \n",
      "2020-04-16  151.889999  141.343994  143.388000  149.042007  103289500.0   \n",
      "2020-04-17  154.990005  149.531998  154.455994  150.778000   65641000.0   \n",
      "2020-04-20  153.113998  142.442001  146.539993  149.272003   73733000.0   \n",
      "2020-04-21  150.666000  134.757996  146.024002  137.343994  101045500.0   \n",
      "2020-04-22  146.800003  137.742004  140.796005  146.421997   71124000.0   \n",
      "2020-04-23  146.800003  140.626007  145.520004  141.126007   66183500.0   \n",
      "2020-04-24  146.145996  139.636002  142.162003  145.029999   66188000.0   \n",
      "2020-04-27  159.897995  147.000000  147.522003  159.750000  103407000.0   \n",
      "2020-04-28  161.000000  151.337997  159.128006  153.824005   76110000.0   \n",
      "2020-04-29  160.639999  156.632004  158.033997  160.102005   81080000.0   \n",
      "2020-04-30  173.964005  152.699997  171.037994  156.376007  142359500.0   \n",
      "\n",
      "             Adj Close  \n",
      "Date                    \n",
      "2020-04-01   96.311996  \n",
      "2020-04-02   90.893997  \n",
      "2020-04-03   96.001999  \n",
      "2020-04-06  103.248001  \n",
      "2020-04-07  109.089996  \n",
      "2020-04-08  109.767998  \n",
      "2020-04-09  114.599998  \n",
      "2020-04-13  130.190002  \n",
      "2020-04-14  141.977997  \n",
      "2020-04-15  145.966003  \n",
      "2020-04-16  149.042007  \n",
      "2020-04-17  150.778000  \n",
      "2020-04-20  149.272003  \n",
      "2020-04-21  137.343994  \n",
      "2020-04-22  146.421997  \n",
      "2020-04-23  141.126007  \n",
      "2020-04-24  145.029999  \n",
      "2020-04-27  159.750000  \n",
      "2020-04-28  153.824005  \n",
      "2020-04-29  160.102005  \n",
      "2020-04-30  156.376007  \n"
     ]
    }
   ],
   "source": [
    "# Observe April 2020\n",
    "print(tsla.loc[pd.Timestamp('2020-4-1'):pd.Timestamp('2020-4-30')])"
   ]
  },
  {
   "cell_type": "code",
   "execution_count": 10,
   "metadata": {},
   "outputs": [
    {
     "name": "stdout",
     "output_type": "stream",
     "text": [
      "                  High         Low        Open       Close       Volume  \\\n",
      "Date                                                                      \n",
      "2020-05-01  154.554001  136.608002  151.000000  140.264008  162659000.0   \n",
      "2020-05-04  152.399994  139.600006  140.199997  152.238007   96185500.0   \n",
      "2020-05-05  159.783997  152.436005  157.957993  153.641998   84958500.0   \n",
      "2020-05-06  157.960007  152.222000  155.300003  156.516006   55616000.0   \n",
      "2020-05-07  159.279999  154.470001  155.442001  156.007996   57638500.0   \n",
      "2020-05-08  164.800003  157.401993  158.753998  163.884003   80650500.0   \n",
      "2020-05-11  164.800003  157.000000  158.102005  162.257996   82598000.0   \n",
      "2020-05-12  168.658005  161.600006  165.399994  161.882004   79534500.0   \n",
      "2020-05-13  165.199997  152.660004  164.166000  158.192001   95327500.0   \n",
      "2020-05-14  160.671997  152.800003  156.000000  160.666000   68411000.0   \n",
      "2020-05-15  161.009995  157.309998  158.070007  159.834000   52592000.0   \n",
      "2020-05-18  166.944000  160.776001  165.556000  162.725998   58490500.0   \n",
      "2020-05-19  164.414001  161.216003  163.033997  161.602005   48182500.0   \n",
      "2020-05-20  165.199997  162.360001  164.100006  163.112000   36546500.0   \n",
      "2020-05-21  166.500000  159.199997  163.199997  165.520004   61273000.0   \n",
      "2020-05-22  166.356003  162.399994  164.434006  163.376007   49937500.0   \n",
      "2020-05-26  166.919998  163.141998  166.899994  163.774002   40448500.0   \n",
      "2020-05-27  165.542007  157.000000  164.171997  164.046005   57747500.0   \n",
      "2020-05-28  164.949997  160.337997  162.701996  161.162003   36278000.0   \n",
      "2020-05-29  167.000000  160.841995  161.750000  167.000000   59062500.0   \n",
      "\n",
      "             Adj Close  \n",
      "Date                    \n",
      "2020-05-01  140.264008  \n",
      "2020-05-04  152.238007  \n",
      "2020-05-05  153.641998  \n",
      "2020-05-06  156.516006  \n",
      "2020-05-07  156.007996  \n",
      "2020-05-08  163.884003  \n",
      "2020-05-11  162.257996  \n",
      "2020-05-12  161.882004  \n",
      "2020-05-13  158.192001  \n",
      "2020-05-14  160.666000  \n",
      "2020-05-15  159.834000  \n",
      "2020-05-18  162.725998  \n",
      "2020-05-19  161.602005  \n",
      "2020-05-20  163.112000  \n",
      "2020-05-21  165.520004  \n",
      "2020-05-22  163.376007  \n",
      "2020-05-26  163.774002  \n",
      "2020-05-27  164.046005  \n",
      "2020-05-28  161.162003  \n",
      "2020-05-29  167.000000  \n"
     ]
    }
   ],
   "source": [
    "# Observe May 2020\n",
    "print(tsla.loc[pd.Timestamp('2020-5-1'):pd.Timestamp('2020-5-31')])"
   ]
  },
  {
   "cell_type": "code",
   "execution_count": 11,
   "metadata": {},
   "outputs": [
    {
     "name": "stdout",
     "output_type": "stream",
     "text": [
      "                  High         Low        Open       Close      Volume  \\\n",
      "Date                                                                     \n",
      "2020-06-01  179.800003  170.820007  171.600006  179.619995  74697500.0   \n",
      "2020-06-02  181.731995  174.199997  178.940002  176.311996  67828000.0   \n",
      "2020-06-03  179.587997  176.020004  177.623993  176.591995  39747500.0   \n",
      "2020-06-04  179.149994  171.688004  177.975998  172.876007  44438500.0   \n",
      "2020-06-05  177.304001  173.240005  175.567993  177.132004  39059500.0   \n",
      "2020-06-08  190.000000  181.832001  183.800003  189.983994  70873500.0   \n",
      "2020-06-09  190.888000  184.785995  188.001999  188.134003  56941000.0   \n",
      "2020-06-10  205.496002  196.500000  198.376007  205.009995  92817000.0   \n",
      "2020-06-11  203.792007  194.399994  198.039993  194.567993  79582500.0   \n",
      "2020-06-12  197.595993  182.520004  196.000000  187.056000  83817000.0   \n",
      "2020-06-15  199.768005  181.699997  183.557999  198.179993  78486000.0   \n",
      "2020-06-16  202.576004  192.477997  202.369995  196.425995  70255500.0   \n",
      "2020-06-17  201.000000  196.514008  197.542007  198.358002  49454000.0   \n",
      "2020-06-18  203.839996  198.893997  200.600006  200.792007  48759500.0   \n",
      "2020-06-19  203.194000  198.268005  202.556000  200.179993  43398500.0   \n",
      "2020-06-22  201.776001  198.003998  199.990005  198.863998  31812000.0   \n",
      "2020-06-23  202.399994  198.802002  199.776001  200.356003  31826500.0   \n",
      "2020-06-24  200.175995  190.628006  198.822006  192.169998  54798000.0   \n",
      "2020-06-25  197.195999  187.429993  190.854004  197.195999  46272500.0   \n",
      "2020-06-26  199.000000  190.973999  198.955994  191.947998  44274500.0   \n",
      "2020-06-29  202.000000  189.703995  193.802002  201.869995  45132000.0   \n",
      "2020-06-30  217.537994  200.746002  201.300003  215.962006  84592500.0   \n",
      "\n",
      "             Adj Close  \n",
      "Date                    \n",
      "2020-06-01  179.619995  \n",
      "2020-06-02  176.311996  \n",
      "2020-06-03  176.591995  \n",
      "2020-06-04  172.876007  \n",
      "2020-06-05  177.132004  \n",
      "2020-06-08  189.983994  \n",
      "2020-06-09  188.134003  \n",
      "2020-06-10  205.009995  \n",
      "2020-06-11  194.567993  \n",
      "2020-06-12  187.056000  \n",
      "2020-06-15  198.179993  \n",
      "2020-06-16  196.425995  \n",
      "2020-06-17  198.358002  \n",
      "2020-06-18  200.792007  \n",
      "2020-06-19  200.179993  \n",
      "2020-06-22  198.863998  \n",
      "2020-06-23  200.356003  \n",
      "2020-06-24  192.169998  \n",
      "2020-06-25  197.195999  \n",
      "2020-06-26  191.947998  \n",
      "2020-06-29  201.869995  \n",
      "2020-06-30  215.962006  \n"
     ]
    }
   ],
   "source": [
    "# Observe June 2020\n",
    "print(tsla.loc[pd.Timestamp('2020-6-1'):pd.Timestamp('2020-6-30')])"
   ]
  },
  {
   "cell_type": "code",
   "execution_count": 12,
   "metadata": {},
   "outputs": [
    {
     "name": "stdout",
     "output_type": "stream",
     "text": [
      "                  High         Low        Open       Close       Volume  \\\n",
      "Date                                                                      \n",
      "2020-07-01  227.065994  216.100006  216.600006  223.925995   66634500.0   \n",
      "2020-07-02  245.600006  237.119995  244.296005  241.731995   86250500.0   \n",
      "2020-07-06  275.558014  253.207993  255.337997  274.316010  102849500.0   \n",
      "2020-07-07  285.899994  267.342010  281.002014  277.971985  107448500.0   \n",
      "2020-07-08  283.451996  262.268005  281.000000  273.175995   81556500.0   \n",
      "2020-07-09  281.712006  270.256012  279.398010  278.855988   58588000.0   \n",
      "2020-07-10  309.783997  275.201996  279.200012  308.929993  116688000.0   \n",
      "2020-07-13  358.997986  294.221985  331.799988  299.411987  194927000.0   \n",
      "2020-07-14  318.000000  286.200012  311.200012  303.359985  117090500.0   \n",
      "2020-07-15  310.000000  291.399994  308.600006  309.201996   81839000.0   \n",
      "2020-07-16  306.342010  293.200012  295.432007  300.127991   71504000.0   \n",
      "2020-07-17  307.502014  298.000000  302.690002  300.167999   46650000.0   \n",
      "2020-07-20  330.000000  297.600006  303.802002  328.600006   85607000.0   \n",
      "2020-07-21  335.000000  311.600006  327.985992  313.671997   80786500.0   \n",
      "2020-07-22  325.283997  312.399994  319.799988  318.466003   70805500.0   \n",
      "2020-07-23  337.799988  296.153992  335.790009  302.614014  121642500.0   \n",
      "2020-07-24  293.000000  273.308014  283.201996  283.399994   96983000.0   \n",
      "2020-07-27  309.588013  282.600006  287.000000  307.920013   80243500.0   \n",
      "2020-07-28  312.940002  294.884003  300.799988  295.298004   79043500.0   \n",
      "2020-07-29  306.962006  297.399994  300.200012  299.821991   47134500.0   \n",
      "2020-07-30  302.648010  294.200012  297.600006  297.497986   38105000.0   \n",
      "2020-07-31  303.410004  284.196014  303.000000  286.152008   61235000.0   \n",
      "\n",
      "             Adj Close  \n",
      "Date                    \n",
      "2020-07-01  223.925995  \n",
      "2020-07-02  241.731995  \n",
      "2020-07-06  274.316010  \n",
      "2020-07-07  277.971985  \n",
      "2020-07-08  273.175995  \n",
      "2020-07-09  278.855988  \n",
      "2020-07-10  308.929993  \n",
      "2020-07-13  299.411987  \n",
      "2020-07-14  303.359985  \n",
      "2020-07-15  309.201996  \n",
      "2020-07-16  300.127991  \n",
      "2020-07-17  300.167999  \n",
      "2020-07-20  328.600006  \n",
      "2020-07-21  313.671997  \n",
      "2020-07-22  318.466003  \n",
      "2020-07-23  302.614014  \n",
      "2020-07-24  283.399994  \n",
      "2020-07-27  307.920013  \n",
      "2020-07-28  295.298004  \n",
      "2020-07-29  299.821991  \n",
      "2020-07-30  297.497986  \n",
      "2020-07-31  286.152008  \n"
     ]
    }
   ],
   "source": [
    "# Observe July 2020\n",
    "print(tsla.loc[pd.Timestamp('2020-7-1'):pd.Timestamp('2020-7-31')])"
   ]
  },
  {
   "cell_type": "code",
   "execution_count": 13,
   "metadata": {},
   "outputs": [
    {
     "name": "stdout",
     "output_type": "stream",
     "text": [
      "                  High         Low        Open       Close       Volume  \\\n",
      "Date                                                                      \n",
      "2020-08-03  301.962006  288.876007  289.839996  297.000000   44046500.0   \n",
      "2020-08-04  305.481995  292.399994  299.002014  297.399994   42075000.0   \n",
      "2020-08-05  299.967987  293.661987  298.597992  297.003998   24890000.0   \n",
      "2020-08-06  303.462006  295.451996  298.165985  297.915985   29961500.0   \n",
      "2020-08-07  299.950012  283.002014  299.907990  290.541992   44482000.0   \n",
      "2020-08-10  291.500000  277.167999  289.600006  283.713989   37611500.0   \n",
      "2020-08-11  284.000000  273.000000  279.200012  274.877991   43129000.0   \n",
      "2020-08-12  317.000000  287.000000  294.000000  310.951996  109494000.0   \n",
      "2020-08-13  330.235992  313.451996  322.200012  324.200012  102126500.0   \n",
      "2020-08-14  333.760010  325.328003  332.997986  330.141998   62888000.0   \n",
      "2020-08-17  369.171997  334.566010  335.399994  367.127991  101211500.0   \n",
      "2020-08-18  384.779999  369.022003  379.798004  377.417999   82372500.0   \n",
      "2020-08-19  382.200012  368.242004  373.000000  375.705994   61026500.0   \n",
      "2020-08-20  404.398010  371.411987  372.135986  400.365997  103059000.0   \n",
      "2020-08-21  419.097992  405.010010  408.951996  409.996002  107448000.0   \n",
      "2020-08-24  425.799988  385.503998  425.256012  402.839996  100318000.0   \n",
      "2020-08-25  405.589996  393.600006  394.977997  404.667999   53294500.0   \n",
      "2020-08-26  433.200012  410.726013  412.000000  430.634003   71197000.0   \n",
      "2020-08-27  459.119995  428.500000  436.092010  447.750000  118465000.0   \n",
      "2020-08-28  463.697998  437.303986  459.023987  442.679993  100406000.0   \n",
      "2020-08-31  500.140015  440.109985  444.609985  498.320007  118374400.0   \n",
      "\n",
      "             Adj Close  \n",
      "Date                    \n",
      "2020-08-03  297.000000  \n",
      "2020-08-04  297.399994  \n",
      "2020-08-05  297.003998  \n",
      "2020-08-06  297.915985  \n",
      "2020-08-07  290.541992  \n",
      "2020-08-10  283.713989  \n",
      "2020-08-11  274.877991  \n",
      "2020-08-12  310.951996  \n",
      "2020-08-13  324.200012  \n",
      "2020-08-14  330.141998  \n",
      "2020-08-17  367.127991  \n",
      "2020-08-18  377.417999  \n",
      "2020-08-19  375.705994  \n",
      "2020-08-20  400.365997  \n",
      "2020-08-21  409.996002  \n",
      "2020-08-24  402.839996  \n",
      "2020-08-25  404.667999  \n",
      "2020-08-26  430.634003  \n",
      "2020-08-27  447.750000  \n",
      "2020-08-28  442.679993  \n",
      "2020-08-31  498.320007  \n"
     ]
    }
   ],
   "source": [
    "# Observe August 2020\n",
    "print(tsla.loc[pd.Timestamp('2020-8-1'):pd.Timestamp('2020-8-31')])"
   ]
  },
  {
   "cell_type": "code",
   "execution_count": 14,
   "metadata": {},
   "outputs": [],
   "source": [
    "# Add column Diff between Opening and closing prices\n",
    "tsla['diff'] = tsla.Open - tsla.Close"
   ]
  },
  {
   "cell_type": "code",
   "execution_count": 18,
   "metadata": {},
   "outputs": [
    {
     "data": {
      "image/png": "[encoded data removed]",
      "text/plain": [
       "<Figure size 432x288 with 1 Axes>"
      ]
     },
     "metadata": {
      "needs_background": "light"
     },
     "output_type": "display_data"
    }
   ],
   "source": [
    "tsla['Open'].plot(grid = True)\n",
    "plt.show()"
   ]
  },
  {
   "cell_type": "code",
   "execution_count": 15,
   "metadata": {},
   "outputs": [
    {
     "data": {
      "image/png": "[encoded data removed]",
      "text/plain": [
       "<Figure size 432x288 with 1 Axes>"
      ]
     },
     "metadata": {
      "needs_background": "light"
     },
     "output_type": "display_data"
    }
   ],
   "source": [
    "tsla['Close'].plot(grid = True)\n",
    "plt.show()"
   ]
  },
  {
   "cell_type": "code",
   "execution_count": 17,
   "metadata": {},
   "outputs": [
    {
     "data": {
      "image/png": "[encoded data removed]",
      "text/plain": [
       "<Figure size 432x288 with 1 Axes>"
      ]
     },
     "metadata": {
      "needs_background": "light"
     },
     "output_type": "display_data"
    }
   ],
   "source": [
    "tsla['diff'].plot(grid = True)\n",
    "plt.show()"
   ]
  },
  {
   "cell_type": "code",
   "execution_count": 20,
   "metadata": {},
   "outputs": [
    {
     "data": {
      "text/html": [
       "<div>\n",
       "<style scoped>\n",
       "    .dataframe tbody tr th:only-of-type {\n",
       "        vertical-align: middle;\n",
       "    }\n",
       "\n",
       "    .dataframe tbody tr th {\n",
       "        vertical-align: top;\n",
       "    }\n",
       "\n",
       "    .dataframe thead th {\n",
       "        text-align: right;\n",
       "    }\n",
       "</style>\n",
       "<table border=\"1\" class=\"dataframe\">\n",
       "  <thead>\n",
       "    <tr style=\"text-align: right;\">\n",
       "      <th></th>\n",
       "      <th>High</th>\n",
       "      <th>Low</th>\n",
       "      <th>Open</th>\n",
       "      <th>Close</th>\n",
       "      <th>Volume</th>\n",
       "      <th>Adj Close</th>\n",
       "      <th>diff</th>\n",
       "    </tr>\n",
       "    <tr>\n",
       "      <th>Date</th>\n",
       "      <th></th>\n",
       "      <th></th>\n",
       "      <th></th>\n",
       "      <th></th>\n",
       "      <th></th>\n",
       "      <th></th>\n",
       "      <th></th>\n",
       "    </tr>\n",
       "  </thead>\n",
       "  <tbody>\n",
       "    <tr>\n",
       "      <th>2010-06-30</th>\n",
       "      <td>5.542000</td>\n",
       "      <td>4.084000</td>\n",
       "      <td>4.479000</td>\n",
       "      <td>4.772000</td>\n",
       "      <td>8.988350e+07</td>\n",
       "      <td>4.772000</td>\n",
       "      <td>-0.293000</td>\n",
       "    </tr>\n",
       "    <tr>\n",
       "      <th>2010-07-31</th>\n",
       "      <td>4.128000</td>\n",
       "      <td>3.763238</td>\n",
       "      <td>4.014667</td>\n",
       "      <td>3.911619</td>\n",
       "      <td>1.537519e+07</td>\n",
       "      <td>3.911619</td>\n",
       "      <td>0.103048</td>\n",
       "    </tr>\n",
       "    <tr>\n",
       "      <th>2010-08-31</th>\n",
       "      <td>3.982000</td>\n",
       "      <td>3.816091</td>\n",
       "      <td>3.909091</td>\n",
       "      <td>3.902182</td>\n",
       "      <td>3.417773e+06</td>\n",
       "      <td>3.902182</td>\n",
       "      <td>0.006909</td>\n",
       "    </tr>\n",
       "    <tr>\n",
       "      <th>2010-09-30</th>\n",
       "      <td>4.255238</td>\n",
       "      <td>4.061810</td>\n",
       "      <td>4.155809</td>\n",
       "      <td>4.148095</td>\n",
       "      <td>4.296643e+06</td>\n",
       "      <td>4.148095</td>\n",
       "      <td>0.007714</td>\n",
       "    </tr>\n",
       "    <tr>\n",
       "      <th>2010-10-31</th>\n",
       "      <td>4.198571</td>\n",
       "      <td>4.085143</td>\n",
       "      <td>4.144667</td>\n",
       "      <td>4.142667</td>\n",
       "      <td>1.559000e+06</td>\n",
       "      <td>4.142667</td>\n",
       "      <td>0.002000</td>\n",
       "    </tr>\n",
       "    <tr>\n",
       "      <th>...</th>\n",
       "      <td>...</td>\n",
       "      <td>...</td>\n",
       "      <td>...</td>\n",
       "      <td>...</td>\n",
       "      <td>...</td>\n",
       "      <td>...</td>\n",
       "      <td>...</td>\n",
       "    </tr>\n",
       "    <tr>\n",
       "      <th>2020-05-31</th>\n",
       "      <td>163.147200</td>\n",
       "      <td>156.069100</td>\n",
       "      <td>159.812000</td>\n",
       "      <td>159.885102</td>\n",
       "      <td>6.820688e+07</td>\n",
       "      <td>159.885102</td>\n",
       "      <td>-0.073103</td>\n",
       "    </tr>\n",
       "    <tr>\n",
       "      <th>2020-06-30</th>\n",
       "      <td>196.173181</td>\n",
       "      <td>187.734000</td>\n",
       "      <td>191.638728</td>\n",
       "      <td>192.708453</td>\n",
       "      <td>5.813016e+07</td>\n",
       "      <td>192.708453</td>\n",
       "      <td>-1.069725</td>\n",
       "    </tr>\n",
       "    <tr>\n",
       "      <th>2020-07-31</th>\n",
       "      <td>303.024820</td>\n",
       "      <td>281.311821</td>\n",
       "      <td>292.988002</td>\n",
       "      <td>292.028179</td>\n",
       "      <td>8.607327e+07</td>\n",
       "      <td>292.028179</td>\n",
       "      <td>0.959824</td>\n",
       "    </tr>\n",
       "    <tr>\n",
       "      <th>2020-08-31</th>\n",
       "      <td>367.357906</td>\n",
       "      <td>346.349333</td>\n",
       "      <td>354.512284</td>\n",
       "      <td>360.059711</td>\n",
       "      <td>7.418459e+07</td>\n",
       "      <td>360.059711</td>\n",
       "      <td>-5.547427</td>\n",
       "    </tr>\n",
       "    <tr>\n",
       "      <th>2020-09-30</th>\n",
       "      <td>502.489990</td>\n",
       "      <td>470.510010</td>\n",
       "      <td>502.140015</td>\n",
       "      <td>475.049988</td>\n",
       "      <td>9.011940e+07</td>\n",
       "      <td>475.049988</td>\n",
       "      <td>27.090027</td>\n",
       "    </tr>\n",
       "  </tbody>\n",
       "</table>\n",
       "<p>124 rows × 7 columns</p>\n",
       "</div>"
      ],
      "text/plain": [
       "                  High         Low        Open       Close        Volume  \\\n",
       "Date                                                                       \n",
       "2010-06-30    5.542000    4.084000    4.479000    4.772000  8.988350e+07   \n",
       "2010-07-31    4.128000    3.763238    4.014667    3.911619  1.537519e+07   \n",
       "2010-08-31    3.982000    3.816091    3.909091    3.902182  3.417773e+06   \n",
       "2010-09-30    4.255238    4.061810    4.155809    4.148095  4.296643e+06   \n",
       "2010-10-31    4.198571    4.085143    4.144667    4.142667  1.559000e+06   \n",
       "...                ...         ...         ...         ...           ...   \n",
       "2020-05-31  163.147200  156.069100  159.812000  159.885102  6.820688e+07   \n",
       "2020-06-30  196.173181  187.734000  191.638728  192.708453  5.813016e+07   \n",
       "2020-07-31  303.024820  281.311821  292.988002  292.028179  8.607327e+07   \n",
       "2020-08-31  367.357906  346.349333  354.512284  360.059711  7.418459e+07   \n",
       "2020-09-30  502.489990  470.510010  502.140015  475.049988  9.011940e+07   \n",
       "\n",
       "             Adj Close       diff  \n",
       "Date                               \n",
       "2010-06-30    4.772000  -0.293000  \n",
       "2010-07-31    3.911619   0.103048  \n",
       "2010-08-31    3.902182   0.006909  \n",
       "2010-09-30    4.148095   0.007714  \n",
       "2010-10-31    4.142667   0.002000  \n",
       "...                ...        ...  \n",
       "2020-05-31  159.885102  -0.073103  \n",
       "2020-06-30  192.708453  -1.069725  \n",
       "2020-07-31  292.028179   0.959824  \n",
       "2020-08-31  360.059711  -5.547427  \n",
       "2020-09-30  475.049988  27.090027  \n",
       "\n",
       "[124 rows x 7 columns]"
      ]
     },
     "execution_count": 20,
     "metadata": {},
     "output_type": "execute_result"
    }
   ],
   "source": [
    "tsla.resample('M').mean()"
   ]
  },
  {
   "cell_type": "code",
   "execution_count": 25,
   "metadata": {},
   "outputs": [
    {
     "name": "stdout",
     "output_type": "stream",
     "text": [
      "            Adj Close\n",
      "Date                 \n",
      "2010-06-29   0.000000\n",
      "2010-06-30  -0.002512\n",
      "2010-07-01  -0.078472\n",
      "2010-07-02  -0.125683\n",
      "2010-07-06  -0.160938\n",
      "...               ...\n",
      "2020-08-26   0.064166\n",
      "2020-08-27   0.039746\n",
      "2020-08-28  -0.011323\n",
      "2020-08-31   0.125689\n",
      "2020-09-01  -0.046697\n",
      "\n",
      "[2563 rows x 1 columns]\n"
     ]
    }
   ],
   "source": [
    "# Compute Financial daily return\n",
    "daily_close = tsla[['Adj Close']]\n",
    "daily_return = daily_close.pct_change()\n",
    "daily_return.fillna(0, inplace = True)\n",
    "print(daily_return)"
   ]
  },
  {
   "cell_type": "code",
   "execution_count": 27,
   "metadata": {},
   "outputs": [
    {
     "name": "stdout",
     "output_type": "stream",
     "text": [
      "                High       Low      Open     Close    Volume  Adj Close  \\\n",
      "Date                                                                      \n",
      "2010-06-30       NaN       NaN       NaN       NaN       NaN        NaN   \n",
      "2010-07-31 -0.328074 -0.160944 -0.216751 -0.163240 -0.975162  -0.163240   \n",
      "2010-08-31 -0.031800 -0.011253 -0.026733 -0.023069 -0.528929  -0.023069   \n",
      "2010-09-30  0.119252  0.044490  0.119023  0.047741  9.918946   0.047741   \n",
      "2010-10-31 -0.013544  0.042595 -0.039091  0.070064 -0.872211   0.070064   \n",
      "...              ...       ...       ...       ...       ...        ...   \n",
      "2020-05-31 -0.040031  0.053320 -0.054304  0.067939 -0.585117   0.067939   \n",
      "2020-06-30  0.302623  0.248094  0.244513  0.293186  0.432254   0.293186   \n",
      "2020-07-31  0.394745  0.415699  0.505216  0.325011 -0.276118   0.325011   \n",
      "2020-08-31  0.648397  0.548614  0.467360  0.741452  0.933117   0.741452   \n",
      "2020-09-30  0.004699  0.069074  0.129394 -0.046697 -0.238692  -0.046697   \n",
      "\n",
      "                diff  \n",
      "Date                  \n",
      "2010-06-30       NaN  \n",
      "2010-07-31 -0.867347  \n",
      "2010-08-31 -0.307693  \n",
      "2010-09-30  7.833339  \n",
      "2010-10-31 -1.440251  \n",
      "...              ...  \n",
      "2020-05-31 -1.358069  \n",
      "2020-06-30  1.792762  \n",
      "2020-07-31 -2.149092  \n",
      "2020-08-31 -4.187918  \n",
      "2020-09-30 -1.504376  \n",
      "\n",
      "[124 rows x 7 columns]\n"
     ]
    }
   ],
   "source": [
    "# Compute Financial monthly return\n",
    "tslad = tsla.resample('M').apply(lambda x: x[-1])\n",
    "monthly_return = tslad.pct_change()\n",
    "print(monthly_return)"
   ]
  },
  {
   "cell_type": "code",
   "execution_count": 31,
   "metadata": {},
   "outputs": [
    {
     "name": "stdout",
     "output_type": "stream",
     "text": [
      "Date\n",
      "2020-08-19    270.551117\n",
      "2020-08-20    274.458237\n",
      "2020-08-21    278.766797\n",
      "2020-08-24    283.082477\n",
      "2020-08-25    287.212237\n",
      "2020-08-26    291.896397\n",
      "2020-08-27    296.884237\n",
      "2020-08-28    301.721997\n",
      "2020-08-31    307.684797\n",
      "2020-09-01    313.208517\n",
      "Name: Adj Close, dtype: float64\n"
     ]
    }
   ],
   "source": [
    "#Compute Moving averages\n",
    "adj_price = tsla['Adj Close']\n",
    "moav = adj_price.rolling(window = 50).mean()\n",
    "print(moav[-10:])"
   ]
  },
  {
   "cell_type": "code",
   "execution_count": 33,
   "metadata": {},
   "outputs": [
    {
     "data": {
      "text/plain": [
       "<matplotlib.axes._subplots.AxesSubplot at 0x227cebb0248>"
      ]
     },
     "execution_count": 33,
     "metadata": {},
     "output_type": "execute_result"
    },
    {
     "data": {
      "image/png": "[encoded data removed]",
      "text/plain": [
       "<Figure size 432x288 with 1 Axes>"
      ]
     },
     "metadata": {
      "needs_background": "light"
     },
     "output_type": "display_data"
    }
   ],
   "source": [
    "adj_price.plot(grid = True)\n",
    "moav.plot(grid = True)"
   ]
  },
  {
   "cell_type": "code",
   "execution_count": null,
   "metadata": {},
   "outputs": [],
   "source": []
  },
  {
   "cell_type": "markdown",
   "metadata": {},
   "source": [
    "## 2. Build a simple trading strategy"
   ]
  },
  {
   "cell_type": "markdown",
   "metadata": {},
   "source": [
    "In this part, we're going to build a momentum-based Simple Moving Average Crossover (SMAC) strategy."
   ]
  },
  {
   "cell_type": "code",
   "execution_count": 60,
   "metadata": {},
   "outputs": [],
   "source": [
    "short_lb = 50\n",
    "long_lb = 120"
   ]
  },
  {
   "cell_type": "code",
   "execution_count": 61,
   "metadata": {},
   "outputs": [],
   "source": [
    "signal_df = pd.DataFrame(index = tsla.index)\n",
    "signal_df['signal'] = 0.0"
   ]
  },
  {
   "cell_type": "code",
   "execution_count": 62,
   "metadata": {},
   "outputs": [],
   "source": [
    "signal_df['short_moav'] = tsla['Adj Close'].rolling(window = short_lb, min_periods = 1, center = False).mean()"
   ]
  },
  {
   "cell_type": "code",
   "execution_count": 63,
   "metadata": {},
   "outputs": [],
   "source": [
    "signal_df['long_moav'] = tsla['Adj Close'].rolling(window = long_lb, min_periods = 1, center = False).mean()"
   ]
  },
  {
   "cell_type": "code",
   "execution_count": 64,
   "metadata": {},
   "outputs": [],
   "source": [
    "signal_df['signal'][short_lb:] = np.where(signal_df['short_moav'][short_lb:] > signal_df['long_moav'][short_lb:], 1.0, 0.0)"
   ]
  },
  {
   "cell_type": "code",
   "execution_count": 65,
   "metadata": {},
   "outputs": [
    {
     "data": {
      "text/html": [
       "<div>\n",
       "<style scoped>\n",
       "    .dataframe tbody tr th:only-of-type {\n",
       "        vertical-align: middle;\n",
       "    }\n",
       "\n",
       "    .dataframe tbody tr th {\n",
       "        vertical-align: top;\n",
       "    }\n",
       "\n",
       "    .dataframe thead th {\n",
       "        text-align: right;\n",
       "    }\n",
       "</style>\n",
       "<table border=\"1\" class=\"dataframe\">\n",
       "  <thead>\n",
       "    <tr style=\"text-align: right;\">\n",
       "      <th></th>\n",
       "      <th>signal</th>\n",
       "      <th>short_moav</th>\n",
       "      <th>long_moav</th>\n",
       "      <th>positions</th>\n",
       "    </tr>\n",
       "    <tr>\n",
       "      <th>Date</th>\n",
       "      <th></th>\n",
       "      <th></th>\n",
       "      <th></th>\n",
       "      <th></th>\n",
       "    </tr>\n",
       "  </thead>\n",
       "  <tbody>\n",
       "    <tr>\n",
       "      <th>2011-03-03</th>\n",
       "      <td>0.0</td>\n",
       "      <td>5.02528</td>\n",
       "      <td>5.050667</td>\n",
       "      <td>-1.0</td>\n",
       "    </tr>\n",
       "    <tr>\n",
       "      <th>2011-09-06</th>\n",
       "      <td>0.0</td>\n",
       "      <td>5.28852</td>\n",
       "      <td>5.303983</td>\n",
       "      <td>-1.0</td>\n",
       "    </tr>\n",
       "    <tr>\n",
       "      <th>2012-06-13</th>\n",
       "      <td>0.0</td>\n",
       "      <td>6.28424</td>\n",
       "      <td>6.309317</td>\n",
       "      <td>-1.0</td>\n",
       "    </tr>\n",
       "    <tr>\n",
       "      <th>2013-12-18</th>\n",
       "      <td>0.0</td>\n",
       "      <td>30.11800</td>\n",
       "      <td>30.188917</td>\n",
       "      <td>-1.0</td>\n",
       "    </tr>\n",
       "    <tr>\n",
       "      <th>2014-07-17</th>\n",
       "      <td>0.0</td>\n",
       "      <td>42.57232</td>\n",
       "      <td>42.596083</td>\n",
       "      <td>-1.0</td>\n",
       "    </tr>\n",
       "    <tr>\n",
       "      <th>2014-12-01</th>\n",
       "      <td>0.0</td>\n",
       "      <td>48.62628</td>\n",
       "      <td>48.727383</td>\n",
       "      <td>-1.0</td>\n",
       "    </tr>\n",
       "    <tr>\n",
       "      <th>2015-10-06</th>\n",
       "      <td>0.0</td>\n",
       "      <td>49.93292</td>\n",
       "      <td>49.972934</td>\n",
       "      <td>-1.0</td>\n",
       "    </tr>\n",
       "    <tr>\n",
       "      <th>2016-08-04</th>\n",
       "      <td>0.0</td>\n",
       "      <td>43.99448</td>\n",
       "      <td>44.071983</td>\n",
       "      <td>-1.0</td>\n",
       "    </tr>\n",
       "    <tr>\n",
       "      <th>2017-11-08</th>\n",
       "      <td>0.0</td>\n",
       "      <td>69.15560</td>\n",
       "      <td>69.193733</td>\n",
       "      <td>-1.0</td>\n",
       "    </tr>\n",
       "    <tr>\n",
       "      <th>2018-04-04</th>\n",
       "      <td>0.0</td>\n",
       "      <td>65.00480</td>\n",
       "      <td>65.051800</td>\n",
       "      <td>-1.0</td>\n",
       "    </tr>\n",
       "    <tr>\n",
       "      <th>2018-10-05</th>\n",
       "      <td>0.0</td>\n",
       "      <td>61.86612</td>\n",
       "      <td>61.935867</td>\n",
       "      <td>-1.0</td>\n",
       "    </tr>\n",
       "    <tr>\n",
       "      <th>2019-03-01</th>\n",
       "      <td>0.0</td>\n",
       "      <td>62.95776</td>\n",
       "      <td>63.032500</td>\n",
       "      <td>-1.0</td>\n",
       "    </tr>\n",
       "  </tbody>\n",
       "</table>\n",
       "</div>"
      ],
      "text/plain": [
       "            signal  short_moav  long_moav  positions\n",
       "Date                                                \n",
       "2011-03-03     0.0     5.02528   5.050667       -1.0\n",
       "2011-09-06     0.0     5.28852   5.303983       -1.0\n",
       "2012-06-13     0.0     6.28424   6.309317       -1.0\n",
       "2013-12-18     0.0    30.11800  30.188917       -1.0\n",
       "2014-07-17     0.0    42.57232  42.596083       -1.0\n",
       "2014-12-01     0.0    48.62628  48.727383       -1.0\n",
       "2015-10-06     0.0    49.93292  49.972934       -1.0\n",
       "2016-08-04     0.0    43.99448  44.071983       -1.0\n",
       "2017-11-08     0.0    69.15560  69.193733       -1.0\n",
       "2018-04-04     0.0    65.00480  65.051800       -1.0\n",
       "2018-10-05     0.0    61.86612  61.935867       -1.0\n",
       "2019-03-01     0.0    62.95776  63.032500       -1.0"
      ]
     },
     "execution_count": 65,
     "metadata": {},
     "output_type": "execute_result"
    }
   ],
   "source": [
    "signal_df['positions'] = signal_df['signal'].diff()\n",
    "signal_df[signal_df['positions'] == -1.0]"
   ]
  },
  {
   "cell_type": "code",
   "execution_count": 66,
   "metadata": {},
   "outputs": [
    {
     "data": {
      "image/png": "[encoded data removed]",
      "text/plain": [
       "<Figure size 864x576 with 1 Axes>"
      ]
     },
     "metadata": {
      "needs_background": "light"
     },
     "output_type": "display_data"
    }
   ],
   "source": [
    "fig = plt.figure()\n",
    "plt1 = fig.add_subplot(111, ylabel = 'Price in $')\n",
    "tsla['Adj Close'].plot(ax = plt1, color = 'r', lw = 2.)\n",
    "signal_df[['short_moav', 'long_moav']].plot(ax=plt1, lw=2., figsize=(12,8))\n",
    "plt1.plot(signal_df.loc[signal_df.positions == -1.0].index, signal_df.short_moav[signal_df.positions == -1.0],'v', markersize=10, color='k')\n",
    "plt1.plot(signal_df.loc[signal_df.positions == 1.0].index, signal_df.short_moav[signal_df.positions == 1.0], '^', markersize=10, color='m')\n",
    "plt.show()"
   ]
  }
 ],
 "metadata": {
  "kernelspec": {
   "display_name": "Python 3",
   "language": "python",
   "name": "python3"
  },
  "language_info": {
   "codemirror_mode": {
    "name": "ipython",
    "version": 3
   },
   "file_extension": ".py",
   "mimetype": "text/x-python",
   "name": "python",
   "nbconvert_exporter": "python",
   "pygments_lexer": "ipython3",
   "version": "3.7.7"
  }
 },
 "nbformat": 4,
 "nbformat_minor": 4
}
