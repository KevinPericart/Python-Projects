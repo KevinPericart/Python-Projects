{
 "cells": [
  {
   "cell_type": "markdown",
   "metadata": {},
   "source": [
    "# <center> Python Webscraping on Leboncoin website </center>"
   ]
  },
  {
   "cell_type": "code",
   "execution_count": 4,
   "metadata": {},
   "outputs": [
    {
     "name": "stdout",
     "output_type": "stream",
     "text": [
      "Collecting requests_cache\n",
      "  Downloading requests_cache-0.5.2-py2.py3-none-any.whl (22 kB)\n",
      "Requirement already satisfied: requests>=1.1.0 in c:\\users\\macbi\\anaconda3\\lib\\site-packages (from requests_cache) (2.23.0)\n",
      "Requirement already satisfied: chardet<4,>=3.0.2 in c:\\users\\macbi\\anaconda3\\lib\\site-packages (from requests>=1.1.0->requests_cache) (3.0.4)\n",
      "Requirement already satisfied: certifi>=2017.4.17 in c:\\users\\macbi\\anaconda3\\lib\\site-packages (from requests>=1.1.0->requests_cache) (2020.4.5.1)\n",
      "Requirement already satisfied: urllib3!=1.25.0,!=1.25.1,<1.26,>=1.21.1 in c:\\users\\macbi\\anaconda3\\lib\\site-packages (from requests>=1.1.0->requests_cache) (1.25.8)\n",
      "Requirement already satisfied: idna<3,>=2.5 in c:\\users\\macbi\\anaconda3\\lib\\site-packages (from requests>=1.1.0->requests_cache) (2.9)\n",
      "Installing collected packages: requests-cache\n",
      "Successfully installed requests-cache-0.5.2\n"
     ]
    }
   ],
   "source": [
    "!pip install requests_cache"
   ]
  },
  {
   "cell_type": "code",
   "execution_count": 5,
   "metadata": {},
   "outputs": [],
   "source": [
    "from IPython.display import Image\n",
    "import requests\n",
    "from bs4 import BeautifulSoup\n",
    "import requests_cache\n",
    "import pandas as pd\n",
    "requests_cache.install_cache(\"bases_scraping\", expire_after = 10e5)"
   ]
  },
  {
   "cell_type": "code",
   "execution_count": 6,
   "metadata": {},
   "outputs": [],
   "source": [
    "# Recuperate the research, we're looking for a Tmax in Marseille area\n",
    "url = \"https://www.leboncoin.fr/recherche/?category=3&text=tmax&locations=Marseille__43.29286520531904_5.413538501072584_10000\""
   ]
  },
  {
   "cell_type": "code",
   "execution_count": 7,
   "metadata": {},
   "outputs": [
    {
     "data": {
      "text/plain": [
       "<Response [403]>"
      ]
     },
     "execution_count": 7,
     "metadata": {},
     "output_type": "execute_result"
    }
   ],
   "source": [
    "# We can observe that the website rejects the python request\n",
    "response = requests.get(url)\n",
    "response"
   ]
  },
  {
   "cell_type": "code",
   "execution_count": 9,
   "metadata": {},
   "outputs": [
    {
     "data": {
      "text/plain": [
       "<Response [200]>"
      ]
     },
     "execution_count": 9,
     "metadata": {},
     "output_type": "execute_result"
    }
   ],
   "source": [
    "# Using User-agent in order to bypass the website rejection\n",
    "headers = {'User-Agent': 'Mozilla/5.0 (Macintosh; Intel Mac OS X 10_10_1) AppleWebKit/537.36 (KHTML, like Gecko) Chrome/39.0.2171.95 Safari/537.36'}\n",
    "response = requests.get(url, headers = headers)\n",
    "response"
   ]
  },
  {
   "cell_type": "code",
   "execution_count": 10,
   "metadata": {},
   "outputs": [
    {
     "data": {
      "text/plain": [
       "'<!DOCTYPE html>\\n<html lang=\"fr\">\\n<head>\\n\\t<meta charset=\"utf-8\">\\n\\t<meta http-equiv=\"x-ua-compatible\" content=\"ie=edge\">\\n\\t<title data-react-helmet=\"true\">Moto d&#x27;occasion, scooter, quad et 125  Marseille (toute la ville) - leboncoin</title>\\n\\t\\n\\t<meta data-react-helmet=\"true\" name=\"google-site-verification\" content=\"hd1IKIFS52UgrLBhQ7e0y6sP6cVp4QbHvmkfgHP0TnI\"/><meta data-react-helmet=\"true\" name=\"viewport\" content=\"width=device-width, initial-scale=1.0, maximum-scale=1.0, user-scalable=0\"/><meta data-react-helmet=\"true\" name=\"theme-color\" content=\"#f56b2a\"/><meta data-react-helmet=\"true\" property=\"og:locale\" content=\"fr_FR\"/><meta data-react-helmet=\"true\" property=\"og:site_name\" content=\"leboncoin\"/><meta data-react-helmet=\"true\" name=\"twitter:site\" content=\"leboncoin\"/><meta data-react-helmet=\"true\" http-equiv=\"P3P\" content=\"CP=&quot;This is not a P3P policy&quot;\"/><meta data-react-helmet=\"true\" name=\"description\" content=\"Toutes nos annonces gratuites Moto d&#x27;occasion, scooter, quad et 125 Marseille (toute la ville). Consultez nos 96 annonces de particuliers et professionnels sur leboncoin\"/><meta data-react-helmet=\"true\" name=\"robots\" content=\"noindex, nofollow\"/>\\n\\n\\t\\n\\n\\t<script data-react-helmet=\"true\" data-test-id=\"didomi\">\\n    window.gdprAppliesGlobally=true;(function(){function a(e){if(!window.frames[e]){if(document.body&&document.body.firstChild){var t=document.body;var n=document.createElement(\"iframe\");n.style.display=\"none\";n.name=e;n.title=e;t.insertBefore(n,t.firstChild)}\\n      else{setTimeout(function(){a(e)},5)}}}function e(n,r,o,c,s){function e(e,t,n,a){if(typeof n!==\"function\"){return}if(!window[r]){window[r]=[]}var i=false;if(s){i=s(e,t,n)}if(!i){window[r].push({command:e,parameter:t,callback:n,version:a})}}e.stub=true;function t(a){if(!window[n]||window[n].stub!==true){return}if(!a.data){return}\\n      var i=typeof a.data===\"string\";var e;try{e=i?JSON.parse(a.data):a.data}catch(t){return}if(e[o]){var r=e[o];window[n](r.command,r.parameter,funct'"
      ]
     },
     "execution_count": 10,
     "metadata": {},
     "output_type": "execute_result"
    }
   ],
   "source": [
    "response.text[0:2000]"
   ]
  },
  {
   "cell_type": "code",
   "execution_count": 11,
   "metadata": {},
   "outputs": [],
   "source": [
    "soup = BeautifulSoup(response.text, \"lxml\")"
   ]
  },
  {
   "cell_type": "code",
   "execution_count": 12,
   "metadata": {},
   "outputs": [
    {
     "data": {
      "text/plain": [
       "\"Annonces Moto d'occasion, scooter, quad et 125 « tmax » : Marseille (toute la ville)\""
      ]
     },
     "execution_count": 12,
     "metadata": {},
     "output_type": "execute_result"
    }
   ],
   "source": [
    "soup.h1.text.replace(\"\\n\", \"\")"
   ]
  },
  {
   "cell_type": "code",
   "execution_count": 18,
   "metadata": {},
   "outputs": [
    {
     "data": {
      "text/plain": [
       "'<div class=\"_2r1q3\" data-reactid=\"394\"><div data-reactid=\"395\"><div data-reactid=\"396\"><ul data-reactid=\"397\"><li class=\"_3DFQ-\" data-qa-id=\"aditem_container\" data-reactid=\"398\" itemscope=\"\" itemtype=\"http://schema.org/Offer\"><div data-reactid=\"399\"><div data-reactid=\"400\"><div class=\"W5Mie\" data-qa-id=\"listitem_save_ad\" data-reactid=\"401\"><div data-reactid=\"402\"><div class=\"_3C4to\" data-reactid=\"403\"><div class=\"_3xQS8\" data-reactid=\"404\"><span class=\"_1vK7W\" data-reactid=\"405\" name=\"heartoutline\"><svg data-name=\"Calque 1\" data-reactid=\"406\" focusable=\"false\" viewbox=\"0 0 24 24\"><path d=\"M21.19 2.24A6.76 6.76 0 0 0 12 3.61a6.76 6.76 0 0 0-9.19-1.37A6.89 6.89 0 0 0 0 7.58c-.16 4.84 4 8.72 10.26 14.66l.12.12a2.32 2.32 0 0 0 3.23 0l.13-.12C20 16.29 24.15 12.41 24 7.57a6.89 6.89 0 0 0-2.81-5.33zm-9.07 18.15l-.12.12-.12-.12C6.17 15 2.4 11.46 2.4 7.86a4.18 4.18 0 0 1 4.2-4.37 4.68 4.68 0 0 1 4.28 3h2.25a4.66 4.66 0 0 1 4.27-3 4.18 4.18 0 0 1 4.2 4.37c0 3.6-3.77 7.14-9.48 12.53z\" data-reacti'"
      ]
     },
     "execution_count": 18,
     "metadata": {},
     "output_type": "execute_result"
    }
   ],
   "source": [
    "div_fille = soup.find(id=\"container\").find(class_=\"_2r1q3\")\n",
    "str(div_fille)[0:1000]"
   ]
  },
  {
   "cell_type": "code",
   "execution_count": 20,
   "metadata": {},
   "outputs": [
    {
     "name": "stdout",
     "output_type": "stream",
     "text": [
      "41\n"
     ]
    }
   ],
   "source": [
    "all_ads = div_fille.find(\"ul\").findAll(\"li\")\n",
    "print(len(all_ads))"
   ]
  },
  {
   "cell_type": "code",
   "execution_count": 40,
   "metadata": {},
   "outputs": [
    {
     "ename": "AttributeError",
     "evalue": "'NoneType' object has no attribute 'find'",
     "output_type": "error",
     "traceback": [
      "\u001b[1;31m---------------------------------------------------------------------------\u001b[0m",
      "\u001b[1;31mAttributeError\u001b[0m                            Traceback (most recent call last)",
      "\u001b[1;32m<ipython-input-40-e2bdbad93a66>\u001b[0m in \u001b[0;36m<module>\u001b[1;34m\u001b[0m\n\u001b[0;32m      2\u001b[0m \u001b[1;32mfor\u001b[0m \u001b[0mads\u001b[0m \u001b[1;32min\u001b[0m \u001b[0mall_ads\u001b[0m\u001b[1;33m:\u001b[0m\u001b[1;33m\u001b[0m\u001b[1;33m\u001b[0m\u001b[0m\n\u001b[0;32m      3\u001b[0m     \u001b[0minfos\u001b[0m \u001b[1;33m=\u001b[0m \u001b[0mads\u001b[0m\u001b[1;33m.\u001b[0m\u001b[0mfind\u001b[0m\u001b[1;33m(\u001b[0m\u001b[0mclass_\u001b[0m\u001b[1;33m=\u001b[0m\u001b[1;34m\"_3DFQ-\"\u001b[0m\u001b[1;33m)\u001b[0m\u001b[1;33m\u001b[0m\u001b[1;33m\u001b[0m\u001b[0m\n\u001b[1;32m----> 4\u001b[1;33m     \u001b[0mtitle\u001b[0m \u001b[1;33m=\u001b[0m \u001b[0minfos\u001b[0m\u001b[1;33m.\u001b[0m\u001b[0mfind\u001b[0m\u001b[1;33m(\u001b[0m\u001b[0mclass_\u001b[0m\u001b[1;33m=\u001b[0m\u001b[1;34m\"_2tubl\"\u001b[0m\u001b[1;33m)\u001b[0m\u001b[1;33m.\u001b[0m\u001b[0mtext\u001b[0m\u001b[1;33m.\u001b[0m\u001b[0mstrip\u001b[0m\u001b[1;33m(\u001b[0m\u001b[1;33m)\u001b[0m\u001b[1;33m\u001b[0m\u001b[1;33m\u001b[0m\u001b[0m\n\u001b[0m\u001b[0;32m      5\u001b[0m     \u001b[1;32mtry\u001b[0m\u001b[1;33m:\u001b[0m\u001b[1;33m\u001b[0m\u001b[1;33m\u001b[0m\u001b[0m\n\u001b[0;32m      6\u001b[0m         \u001b[0mprice\u001b[0m \u001b[1;33m=\u001b[0m \u001b[0minfos\u001b[0m\u001b[1;33m.\u001b[0m\u001b[0mfind\u001b[0m\u001b[1;33m(\u001b[0m\u001b[0mclass_\u001b[0m\u001b[1;33m=\u001b[0m\u001b[1;34m\"_1NfL7\"\u001b[0m\u001b[1;33m)\u001b[0m\u001b[1;33m.\u001b[0m\u001b[0mtext\u001b[0m\u001b[1;33m.\u001b[0m\u001b[0mstrip\u001b[0m\u001b[1;33m(\u001b[0m\u001b[1;33m)\u001b[0m\u001b[1;33m\u001b[0m\u001b[1;33m\u001b[0m\u001b[0m\n",
      "\u001b[1;31mAttributeError\u001b[0m: 'NoneType' object has no attribute 'find'"
     ]
    }
   ],
   "source": [
    "list_all_ads = []\n",
    "for ads in all_ads:\n",
    "    infos = ads.find(class_=\"_3DFQ-\")\n",
    "    title = infos.find(class_=\"_2tubl\").text.strip()\n",
    "    try:\n",
    "        price = infos.find(class_=\"_1NfL7\").text.strip()\n",
    "    except:\n",
    "        price = None\n",
    "    list_all_ads.append({\"title\":title, \"price\":price})"
   ]
  },
  {
   "cell_type": "code",
   "execution_count": null,
   "metadata": {},
   "outputs": [],
   "source": []
  },
  {
   "cell_type": "code",
   "execution_count": null,
   "metadata": {},
   "outputs": [],
   "source": []
  },
  {
   "cell_type": "code",
   "execution_count": null,
   "metadata": {},
   "outputs": [],
   "source": []
  },
  {
   "cell_type": "code",
   "execution_count": null,
   "metadata": {},
   "outputs": [],
   "source": []
  },
  {
   "cell_type": "code",
   "execution_count": null,
   "metadata": {},
   "outputs": [],
   "source": []
  },
  {
   "cell_type": "code",
   "execution_count": null,
   "metadata": {},
   "outputs": [],
   "source": []
  }
 ],
 "metadata": {
  "kernelspec": {
   "display_name": "Python 3",
   "language": "python",
   "name": "python3"
  },
  "language_info": {
   "codemirror_mode": {
    "name": "ipython",
    "version": 3
   },
   "file_extension": ".py",
   "mimetype": "text/x-python",
   "name": "python",
   "nbconvert_exporter": "python",
   "pygments_lexer": "ipython3",
   "version": "3.7.7"
  }
 },
 "nbformat": 4,
 "nbformat_minor": 4
}
